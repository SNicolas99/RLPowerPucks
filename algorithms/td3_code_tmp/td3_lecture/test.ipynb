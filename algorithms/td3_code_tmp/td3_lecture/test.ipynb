{
 "cells": [
  {
   "cell_type": "code",
   "execution_count": 1,
   "metadata": {},
   "outputs": [],
   "source": [
    "import torch\n",
    "import numpy as np\n",
    "import gymnasium as gym\n",
    "from matplotlib import pyplot as plt\n",
    "from IPython.display import clear_output\n",
    "\n",
    "import sys\n",
    "sys.path.append('../../..')\n",
    "\n",
    "from DDPG import DDPGAgent\n",
    "\n",
    "from utils.logger import Logger\n",
    "from utils.trainer import Trainer"
   ]
  },
  {
   "cell_type": "code",
   "execution_count": 2,
   "metadata": {},
   "outputs": [],
   "source": [
    "env_string = \"Pendulum-v1\""
   ]
  },
  {
   "cell_type": "code",
   "execution_count": 3,
   "metadata": {},
   "outputs": [],
   "source": [
    "env = gym.make(env_string)"
   ]
  },
  {
   "cell_type": "code",
   "execution_count": 4,
   "metadata": {},
   "outputs": [],
   "source": [
    "agent = DDPGAgent(env.observation_space, env.action_space)"
   ]
  },
  {
   "cell_type": "code",
   "execution_count": 5,
   "metadata": {},
   "outputs": [
    {
     "name": "stdout",
     "output_type": "stream",
     "text": [
      "Step 101/30000:\n",
      "                    test reward: -1555.07\n",
      "                    mean reward: -1522.63, max reward: -956.80\n",
      "                    Avg. step number: 199.0, Avg ep duration: 0.059s\n",
      "                    Avg. train duration: 0.521s\n",
      "            \n"
     ]
    }
   ],
   "source": [
    "trainer = Trainer()\n",
    "ep_rewards = trainer.train(env, agent, n_episodes=30000, test_every=100, noise=0.2)"
   ]
  },
  {
   "cell_type": "code",
   "execution_count": null,
   "metadata": {},
   "outputs": [],
   "source": [
    "def play(env_string, agent, n_episodes=10, noise=0):\n",
    "    env = gym.make(env_string, render_mode='human')\n",
    "    steps, rewards, observations, actions = Trainer.run(env, agent, n_episodes=n_episodes, noise=noise)\n",
    "    env.close()\n",
    "    return steps, rewards, observations, actions"
   ]
  },
  {
   "cell_type": "code",
   "execution_count": null,
   "metadata": {},
   "outputs": [
    {
     "name": "stdout",
     "output_type": "stream",
     "text": [
      "-116.79800678190446\n"
     ]
    }
   ],
   "source": [
    "steps, rewards, observations, actions = play(\"Pendulum-v1\", agent, n_episodes=1, noise=0)\n",
    "print(np.sum(rewards))"
   ]
  },
  {
   "cell_type": "code",
   "execution_count": null,
   "metadata": {},
   "outputs": [],
   "source": [
    "torch.save(agent.state(), 'checkpoint_lunar.pth')"
   ]
  },
  {
   "cell_type": "code",
   "execution_count": null,
   "metadata": {},
   "outputs": [],
   "source": [
    "agent_state = torch.load('checkpoint_lunar.pth')\n",
    "agent.restore_state(agent_state)"
   ]
  }
 ],
 "metadata": {
  "kernelspec": {
   "display_name": "rl",
   "language": "python",
   "name": "python3"
  },
  "language_info": {
   "codemirror_mode": {
    "name": "ipython",
    "version": 3
   },
   "file_extension": ".py",
   "mimetype": "text/x-python",
   "name": "python",
   "nbconvert_exporter": "python",
   "pygments_lexer": "ipython3",
   "version": "3.8.17"
  },
  "orig_nbformat": 4
 },
 "nbformat": 4,
 "nbformat_minor": 2
}
