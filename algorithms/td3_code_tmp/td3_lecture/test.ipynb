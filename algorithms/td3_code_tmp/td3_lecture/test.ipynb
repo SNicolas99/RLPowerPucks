{
 "cells": [
  {
   "cell_type": "code",
   "execution_count": 1,
   "metadata": {},
   "outputs": [],
   "source": [
    "import torch\n",
    "import numpy as np\n",
    "import gymnasium as gym\n",
    "\n",
    "import sys\n",
    "sys.path.append('../../..')\n",
    "from tools.trainer import Trainer\n",
    "from tools.logger import Logger\n",
    "from environments.hockey_wrapper import HockeyWrapper\n",
    "from TD3 import TD3Agent"
   ]
  },
  {
   "cell_type": "code",
   "execution_count": 2,
   "metadata": {},
   "outputs": [],
   "source": [
    "env_string = \"Hockey\""
   ]
  },
  {
   "cell_type": "code",
   "execution_count": 16,
   "metadata": {},
   "outputs": [],
   "source": [
    "if env_string == \"Hockey\":\n",
    "    env = HockeyWrapper(mode=\"normal\", opponent=\"weak\")\n",
    "else:\n",
    "    env = gym.make(env_string)"
   ]
  },
  {
   "cell_type": "code",
   "execution_count": 4,
   "metadata": {},
   "outputs": [],
   "source": [
    "agent = TD3Agent(env.observation_space, env.action_space)\n",
    "trainer = Trainer()"
   ]
  },
  {
   "cell_type": "code",
   "execution_count": 17,
   "metadata": {},
   "outputs": [
    {
     "name": "stdout",
     "output_type": "stream",
     "text": [
      "Step 101/30000:\n",
      "                    test reward: -1.40\n",
      "                    mean reward: -11.88, max reward: 9.88\n",
      "                    Avg. step count: 170.2, Avg ep duration: 0.043s\n",
      "                    Avg. critic loss: 0.19, Avg. actor loss: 5.53\n",
      "                    Avg. train duration: 0.120s\n",
      "                    winrate: 0.05, drawrate 0.95, lossrate 0.00\n",
      "            \n",
      "Step 201/30000:\n",
      "                    test reward: -0.08\n",
      "                    mean reward: -17.55, max reward: 8.69\n",
      "                    Avg. step count: 188.9, Avg ep duration: 0.046s\n",
      "                    Avg. critic loss: 0.20, Avg. actor loss: 5.74\n",
      "                    Avg. train duration: 0.116s\n",
      "                    winrate: 0.05, drawrate 0.95, lossrate 0.00\n",
      "            \n",
      "Step 301/30000:\n",
      "                    test reward: 0.24\n",
      "                    mean reward: -12.00, max reward: 9.95\n",
      "                    Avg. step count: 177.2, Avg ep duration: 0.043s\n",
      "                    Avg. critic loss: 0.20, Avg. actor loss: 6.10\n",
      "                    Avg. train duration: 0.112s\n",
      "                    winrate: 0.08, drawrate 0.92, lossrate 0.00\n",
      "            \n",
      "Step 401/30000:\n",
      "                    test reward: 0.00\n",
      "                    mean reward: -12.49, max reward: 9.96\n",
      "                    Avg. step count: 179.3, Avg ep duration: 0.043s\n",
      "                    Avg. critic loss: 0.21, Avg. actor loss: 6.40\n",
      "                    Avg. train duration: 0.117s\n",
      "                    winrate: 0.09, drawrate 0.91, lossrate 0.00\n",
      "            \n",
      "Step 501/30000:\n",
      "                    test reward: -2.53\n",
      "                    mean reward: -19.11, max reward: 9.30\n",
      "                    Avg. step count: 191.2, Avg ep duration: 0.047s\n",
      "                    Avg. critic loss: 0.20, Avg. actor loss: 6.69\n",
      "                    Avg. train duration: 0.115s\n",
      "                    winrate: 0.09, drawrate 0.91, lossrate 0.00\n",
      "            \n",
      "Step 601/30000:\n",
      "                    test reward: -1.42\n",
      "                    mean reward: -11.44, max reward: 9.97\n",
      "                    Avg. step count: 202.5, Avg ep duration: 0.049s\n",
      "                    Avg. critic loss: 0.21, Avg. actor loss: 6.92\n",
      "                    Avg. train duration: 0.114s\n",
      "                    winrate: 0.09, drawrate 0.90, lossrate 0.01\n",
      "            \n",
      "Step 701/30000:\n",
      "                    test reward: -0.46\n",
      "                    mean reward: -14.04, max reward: 9.84\n",
      "                    Avg. step count: 170.6, Avg ep duration: 0.042s\n",
      "                    Avg. critic loss: 0.21, Avg. actor loss: 7.19\n",
      "                    Avg. train duration: 0.115s\n",
      "                    winrate: 0.10, drawrate 0.89, lossrate 0.01\n",
      "            \n",
      "Step 801/30000:\n",
      "                    test reward: -1.42\n",
      "                    mean reward: -18.15, max reward: 9.87\n",
      "                    Avg. step count: 162.1, Avg ep duration: 0.040s\n",
      "                    Avg. critic loss: 0.21, Avg. actor loss: 7.60\n",
      "                    Avg. train duration: 0.116s\n",
      "                    winrate: 0.07, drawrate 0.92, lossrate 0.01\n",
      "            \n",
      "Step 901/30000:\n",
      "                    test reward: -0.48\n",
      "                    mean reward: -18.08, max reward: 9.71\n",
      "                    Avg. step count: 188.2, Avg ep duration: 0.046s\n",
      "                    Avg. critic loss: 0.21, Avg. actor loss: 8.06\n",
      "                    Avg. train duration: 0.114s\n",
      "                    winrate: 0.07, drawrate 0.91, lossrate 0.02\n",
      "            \n",
      "Step 1001/30000:\n",
      "                    test reward: -1.29\n",
      "                    mean reward: -5.65, max reward: 9.93\n",
      "                    Avg. step count: 168.8, Avg ep duration: 0.040s\n",
      "                    Avg. critic loss: 0.21, Avg. actor loss: 8.42\n",
      "                    Avg. train duration: 0.113s\n",
      "                    winrate: 0.05, drawrate 0.93, lossrate 0.02\n",
      "            \n",
      "Step 1101/30000:\n",
      "                    test reward: -1.18\n",
      "                    mean reward: -12.98, max reward: 9.98\n",
      "                    Avg. step count: 177.2, Avg ep duration: 0.043s\n",
      "                    Avg. critic loss: 0.21, Avg. actor loss: 8.71\n",
      "                    Avg. train duration: 0.114s\n",
      "                    winrate: 0.04, drawrate 0.94, lossrate 0.02\n",
      "            \n",
      "Step 1201/30000:\n",
      "                    test reward: -1.21\n",
      "                    mean reward: -17.27, max reward: 9.72\n",
      "                    Avg. step count: 182.6, Avg ep duration: 0.044s\n",
      "                    Avg. critic loss: 0.22, Avg. actor loss: 9.11\n",
      "                    Avg. train duration: 0.114s\n",
      "                    winrate: 0.02, drawrate 0.96, lossrate 0.02\n",
      "            \n",
      "Step 1301/30000:\n",
      "                    test reward: -0.04\n",
      "                    mean reward: -13.17, max reward: 9.93\n",
      "                    Avg. step count: 163.4, Avg ep duration: 0.040s\n",
      "                    Avg. critic loss: 0.22, Avg. actor loss: 9.61\n",
      "                    Avg. train duration: 0.115s\n",
      "                    winrate: 0.03, drawrate 0.95, lossrate 0.02\n",
      "            \n",
      "Step 1401/30000:\n",
      "                    test reward: -0.58\n",
      "                    mean reward: -12.55, max reward: 9.99\n",
      "                    Avg. step count: 170.2, Avg ep duration: 0.041s\n",
      "                    Avg. critic loss: 0.22, Avg. actor loss: 10.07\n",
      "                    Avg. train duration: 0.114s\n",
      "                    winrate: 0.03, drawrate 0.96, lossrate 0.01\n",
      "            \n",
      "Step 1501/30000:\n",
      "                    test reward: -0.85\n",
      "                    mean reward: -15.21, max reward: 9.53\n",
      "                    Avg. step count: 172.1, Avg ep duration: 0.042s\n",
      "                    Avg. critic loss: 0.21, Avg. actor loss: 10.43\n",
      "                    Avg. train duration: 0.114s\n",
      "                    winrate: 0.03, drawrate 0.96, lossrate 0.01\n",
      "            \n",
      "Step 1601/30000:\n",
      "                    test reward: -1.48\n",
      "                    mean reward: -11.58, max reward: 9.46\n",
      "                    Avg. step count: 188.6, Avg ep duration: 0.047s\n",
      "                    Avg. critic loss: 0.21, Avg. actor loss: 10.70\n",
      "                    Avg. train duration: 0.119s\n",
      "                    winrate: 0.03, drawrate 0.97, lossrate 0.00\n",
      "            \n",
      "Interrupted\n"
     ]
    }
   ],
   "source": [
    "ep_rewards = trainer.train(env, agent, n_episodes=30000, test_every=100, noise=0.4)"
   ]
  },
  {
   "cell_type": "code",
   "execution_count": 12,
   "metadata": {},
   "outputs": [
    {
     "data": {
      "image/png": "[encoded data removed]",
      "text/plain": [
       "<Figure size 640x480 with 1 Axes>"
      ]
     },
     "metadata": {},
     "output_type": "display_data"
    },
    {
     "ename": "ValueError",
     "evalue": "If mode is 'interp', window_length must be less than or equal to the size of x.",
     "output_type": "error",
     "traceback": [
      "\u001b[0;31m---------------------------------------------------------------------------\u001b[0m",
      "\u001b[0;31mValueError\u001b[0m                                Traceback (most recent call last)",
      "Cell \u001b[0;32mIn[12], line 1\u001b[0m\n\u001b[0;32m----> 1\u001b[0m trainer\u001b[39m.\u001b[39;49mlogger\u001b[39m.\u001b[39;49mplot()\n",
      "File \u001b[0;32m~/bwSyncAndShare/stud/mast/Sem2/RL/project/RLPowerPucks/algorithms/td3_code_tmp/td3_lecture/../../../tools/logger.py:86\u001b[0m, in \u001b[0;36mLogger.plot\u001b[0;34m(self)\u001b[0m\n\u001b[1;32m     83\u001b[0m plt\u001b[39m.\u001b[39mshow()\n\u001b[1;32m     85\u001b[0m \u001b[39mif\u001b[39;00m \u001b[39mself\u001b[39m\u001b[39m.\u001b[39mhockey:\n\u001b[0;32m---> 86\u001b[0m     plt\u001b[39m.\u001b[39mplot(savgol_filter(np\u001b[39m.\u001b[39;49mwhere(hockey_results\u001b[39m==\u001b[39;49m\u001b[39m1\u001b[39;49m), \u001b[39m51\u001b[39;49m, \u001b[39m3\u001b[39;49m, axis\u001b[39m=\u001b[39;49m\u001b[39m0\u001b[39;49m), label\u001b[39m=\u001b[39m\u001b[39m'\u001b[39m\u001b[39mwinrate\u001b[39m\u001b[39m'\u001b[39m)\n\u001b[1;32m     87\u001b[0m     plt\u001b[39m.\u001b[39mplot(savgol_filter(np\u001b[39m.\u001b[39mwhere(hockey_results\u001b[39m==\u001b[39m\u001b[39m0\u001b[39m), \u001b[39m51\u001b[39m, \u001b[39m3\u001b[39m, axis\u001b[39m=\u001b[39m\u001b[39m0\u001b[39m), label\u001b[39m=\u001b[39m\u001b[39m'\u001b[39m\u001b[39mdrawrate\u001b[39m\u001b[39m'\u001b[39m)\n\u001b[1;32m     88\u001b[0m     plt\u001b[39m.\u001b[39mtitle(\u001b[39m'\u001b[39m\u001b[39mhockey result\u001b[39m\u001b[39m'\u001b[39m)\n",
      "File \u001b[0;32m~/mambaforge/envs/rl/lib/python3.8/site-packages/scipy/signal/_savitzky_golay.py:345\u001b[0m, in \u001b[0;36msavgol_filter\u001b[0;34m(x, window_length, polyorder, deriv, delta, axis, mode, cval)\u001b[0m\n\u001b[1;32m    343\u001b[0m \u001b[39mif\u001b[39;00m mode \u001b[39m==\u001b[39m \u001b[39m\"\u001b[39m\u001b[39minterp\u001b[39m\u001b[39m\"\u001b[39m:\n\u001b[1;32m    344\u001b[0m     \u001b[39mif\u001b[39;00m window_length \u001b[39m>\u001b[39m x\u001b[39m.\u001b[39mshape[axis]:\n\u001b[0;32m--> 345\u001b[0m         \u001b[39mraise\u001b[39;00m \u001b[39mValueError\u001b[39;00m(\u001b[39m\"\u001b[39m\u001b[39mIf mode is \u001b[39m\u001b[39m'\u001b[39m\u001b[39minterp\u001b[39m\u001b[39m'\u001b[39m\u001b[39m, window_length must be less \u001b[39m\u001b[39m\"\u001b[39m\n\u001b[1;32m    346\u001b[0m                          \u001b[39m\"\u001b[39m\u001b[39mthan or equal to the size of x.\u001b[39m\u001b[39m\"\u001b[39m)\n\u001b[1;32m    348\u001b[0m     \u001b[39m# Do not pad. Instead, for the elements within `window_length // 2`\u001b[39;00m\n\u001b[1;32m    349\u001b[0m     \u001b[39m# of the ends of the sequence, use the polynomial that is fitted to\u001b[39;00m\n\u001b[1;32m    350\u001b[0m     \u001b[39m# the last `window_length` elements.\u001b[39;00m\n\u001b[1;32m    351\u001b[0m     y \u001b[39m=\u001b[39m convolve1d(x, coeffs, axis\u001b[39m=\u001b[39maxis, mode\u001b[39m=\u001b[39m\u001b[39m\"\u001b[39m\u001b[39mconstant\u001b[39m\u001b[39m\"\u001b[39m)\n",
      "\u001b[0;31mValueError\u001b[0m: If mode is 'interp', window_length must be less than or equal to the size of x."
     ]
    }
   ],
   "source": [
    "trainer.logger.plot()"
   ]
  },
  {
   "cell_type": "code",
   "execution_count": 13,
   "metadata": {},
   "outputs": [],
   "source": [
    "def play(env_string, agent, n_episodes=10, noise=0):\n",
    "    if env_string == 'Hockey':\n",
    "        env = HockeyWrapper(mode='attack', opponent='weak')\n",
    "        render = True\n",
    "    else:\n",
    "        env = gym.make(env_string, render_mode='human')\n",
    "        render = False\n",
    "    steps, rewards, observations, actions, results = Trainer.run(env, agent, n_episodes=n_episodes, noise=noise, render=True, store_transitions=False, hockey=env_string=='Hockey')\n",
    "    env.close()\n",
    "    return steps, rewards, observations, actions, results"
   ]
  },
  {
   "cell_type": "code",
   "execution_count": 15,
   "metadata": {},
   "outputs": [
    {
     "name": "stdout",
     "output_type": "stream",
     "text": [
      "-1.9746841482341524\n"
     ]
    }
   ],
   "source": [
    "steps, rewards, observations, actions, results = play(env_string, agent, n_episodes=5, noise=0)\n",
    "print(np.mean(rewards))"
   ]
  },
  {
   "cell_type": "code",
   "execution_count": null,
   "metadata": {},
   "outputs": [],
   "source": [
    "trainer.logger.save(\"logs/pendulum_td3.npy\")"
   ]
  },
  {
   "cell_type": "code",
   "execution_count": null,
   "metadata": {},
   "outputs": [],
   "source": [
    "# torch.save(agent.state(), 'checkpoint_hockey.pth')"
   ]
  },
  {
   "cell_type": "code",
   "execution_count": null,
   "metadata": {},
   "outputs": [],
   "source": [
    "# agent_state = torch.load('checkpoint_hockey.pth')\n",
    "# agent.restore_state(agent_state)"
   ]
  }
 ],
 "metadata": {
  "kernelspec": {
   "display_name": "rl",
   "language": "python",
   "name": "python3"
  },
  "language_info": {
   "codemirror_mode": {
    "name": "ipython",
    "version": 3
   },
   "file_extension": ".py",
   "mimetype": "text/x-python",
   "name": "python",
   "nbconvert_exporter": "python",
   "pygments_lexer": "ipython3",
   "version": "3.8.17"
  },
  "orig_nbformat": 4
 },
 "nbformat": 4,
 "nbformat_minor": 2
}
